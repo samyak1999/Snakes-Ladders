{
  "nbformat": 4,
  "nbformat_minor": 0,
  "metadata": {
    "colab": {
      "name": "LexLuthor_1828189_Snakes&Ladders.ipynb",
      "provenance": [],
      "collapsed_sections": [],
      "authorship_tag": "ABX9TyNYJKrBkFsEvsMGK+FAenXM",
      "include_colab_link": true
    },
    "kernelspec": {
      "name": "python3",
      "display_name": "Python 3"
    }
  },
  "cells": [
    {
      "cell_type": "markdown",
      "metadata": {
        "id": "view-in-github",
        "colab_type": "text"
      },
      "source": [
        "<a href=\"https://colab.research.google.com/github/samyak1999/Snakes-Ladders/blob/main/LexLuthor_1828189_Snakes%26Ladders.ipynb\" target=\"_parent\"><img src=\"https://colab.research.google.com/assets/colab-badge.svg\" alt=\"Open In Colab\"/></a>"
      ]
    },
    {
      "cell_type": "code",
      "metadata": {
        "id": "OpAlTqqyctIN"
      },
      "source": [
        "import numpy as np"
      ],
      "execution_count": 1,
      "outputs": []
    },
    {
      "cell_type": "markdown",
      "metadata": {
        "id": "Pz9jszK4dCcq"
      },
      "source": [
        "###Stack \r\n",
        "Objective of using stack  is to store and use dice values."
      ]
    },
    {
      "cell_type": "code",
      "metadata": {
        "id": "hIUMuOlQc6_b"
      },
      "source": [
        "class Stack:\r\n",
        "    def __init__(self):\r\n",
        "        self.items = []\r\n",
        "    def push(self, item):\r\n",
        "        self.items.append(int(item))\r\n",
        "\r\n",
        "\r\n",
        "    def top(self):\r\n",
        "        if len(self.items) != 0:\r\n",
        "            return int(self.items[len(self.items)- 1])\r\n",
        "        else:\r\n",
        "            print(\"Stack is empty\")\r\n",
        "\r\n",
        "    def display(self):\r\n",
        "        return (self.items)"
      ],
      "execution_count": 2,
      "outputs": []
    },
    {
      "cell_type": "markdown",
      "metadata": {
        "id": "xoixtBTCdnF4"
      },
      "source": [
        "###Class for manual mode\r\n",
        "This class is used when manual mode is initiated.\r\n",
        "Player represents the current player on board.\r\n",
        "dice_val that the particular players gets.\r\n",
        "final_pos for final position of dice"
      ]
    },
    {
      "cell_type": "code",
      "metadata": {
        "id": "G0bF5aoYdgW0"
      },
      "source": [
        "class manual_mode():\r\n",
        "    def __init__(self,player,dice_val,final_pos):\r\n",
        "        self.player=player\r\n",
        "        self.dice_val=dice_val\r\n",
        "        self.final_pos=final_pos\r\n",
        "    def display(self):\r\n",
        "        ply=self.player.capitalize()\r\n",
        "        print(f\"{ply} has got {self.dice_val}\")\r\n",
        "        print(f\"{ply}'s final position: {self.final_pos}\")\r\n",
        "        print(\"#\"*50) "
      ],
      "execution_count": 3,
      "outputs": []
    },
    {
      "cell_type": "markdown",
      "metadata": {
        "id": "2ImlmKsBe3wf"
      },
      "source": [
        "###Class for automatic mode\r\n",
        "This class is used when automatic mode is initiated.Player represents the current player on board.\r\n",
        "dice_val that the particular players gets.\r\n",
        "final_pos for final position of dice"
      ]
    },
    {
      "cell_type": "code",
      "metadata": {
        "id": "eI4rkIAAeN4Q"
      },
      "source": [
        "class auto_mode():    \r\n",
        "  \r\n",
        "    def __init__(self,player,dice_val,final_pos):\r\n",
        "        self.player=player\r\n",
        "        self.dice_val=dice_val\r\n",
        "        self.final_pos=final_pos\r\n",
        "    def display(self):\r\n",
        "        ply=self.player.capitalize()\r\n",
        "        print(f\"{ply} has got {self.dice_val}\")\r\n",
        "        print(f\"{ply}'s final position: {self.final_pos}\")\r\n",
        "        print(\"#\"*50)  \r\n"
      ],
      "execution_count": 5,
      "outputs": []
    },
    {
      "cell_type": "markdown",
      "metadata": {
        "id": "0eSi5AzEfHw4"
      },
      "source": [
        "###Check(s.top())\r\n",
        "Check() takes the top of the stack(i.e recent dice value) and checks whether a Snake/Ladder has been encountered by mapping with keys of dictionary.\r\n",
        "Two dictionaries are defined containing snake and ladder positions.\r\n",
        "If a snake/ladder position gets mapped then a tuple containing a flag,ladder/snake end position and a string returns."
      ]
    },
    {
      "cell_type": "code",
      "metadata": {
        "id": "c9M9OI0deVqI"
      },
      "source": [
        "def check(x):\r\n",
        "     pos_snakes= {17:7,54:34,62:19,98:79}\r\n",
        "     pos_ladders={3:38,24:33,42:93,72:84}\r\n",
        "     flag =0\r\n",
        "     \r\n",
        "     if(x in pos_snakes.keys()):\r\n",
        "         flag=1\r\n",
        "         return (flag,pos_snakes[x],\"Consumed By snake !!! \\n\")\r\n",
        "     elif(x in pos_ladders.keys()):\r\n",
        "         flag=1\r\n",
        "         return (flag,pos_ladders[x],\"Climbed a ladder !!!\\n\")\r\n",
        "     else:\r\n",
        "         return (flag,0,\"\")\r\n"
      ],
      "execution_count": 6,
      "outputs": []
    },
    {
      "cell_type": "markdown",
      "metadata": {
        "id": "xYO0iQSWiQ_H"
      },
      "source": [
        "###Driver Segment\r\n",
        "This cell contains all the essentials to initiate and play the game.\r\n",
        "mode 0 for Automatic mode.\r\n",
        "mode 1 for Manual mode\r\n"
      ]
    },
    {
      "cell_type": "code",
      "metadata": {
        "colab": {
          "base_uri": "https://localhost:8080/"
        },
        "id": "GiyAlaQgehhd",
        "outputId": "e4d88d70-7e0c-4f11-f9bf-d52ba07c35b2"
      },
      "source": [
        "s1=Stack()            #Stack object 1 has been created\r\n",
        "s2=Stack()\r\n",
        "s1.push(1)            #Initial token position of player 1\r\n",
        "s2.push(1)            #Initial token position of player 2      \r\n",
        "print(s1.display())\r\n",
        "print(\"#\"*7+\"WELCOME TO SNAKES AND LADDERS GAME\"+\"#\"*7)\r\n",
        "n1 =input(\"Enter Player 1 name: \")\r\n",
        "n2 =input(\"Enter Player 2 name: \")\r\n",
        "print(\"^\"*10+\"LET'S START\" +\"^\"*10)\r\n",
        "c = 0\r\n",
        "\r\n",
        "mode1=int(input(f\"{n1} enter 0 for automatic mode or 1 for manual mode \"))                                                           \r\n",
        "mode2=int(input(f\"{n2} enter 0 for automatic mode or 1 for manual mode \"))                                                          \r\n",
        "\r\n",
        "if (mode1|mode2)==0  :                            # if mode1 | mode2 is 0 then opt both opted for Automatic mode \r\n",
        "    while(s1.top() != 100 or s2.top()!=100) :\r\n",
        "        if c == 0:\r\n",
        "            inp=input(\"Player 1: \")\r\n",
        "            if(inp.lower() == 'roll'):\r\n",
        "                dice=np.random.choice([4,5,6,3,1,2])      \r\n",
        "                top1=s1.top()\r\n",
        "                top1+=dice\r\n",
        "                flag,itr,str1=check(top1)               # Tuple unpacking \r\n",
        "                if flag == 1:\r\n",
        "                    top1=itr\r\n",
        "                if (top1>100 ):\r\n",
        "                    top1=top1-dice\r\n",
        "                p1=auto_mode(\"player 1\", dice, top1)     \r\n",
        "                p1.display()\r\n",
        "                print(str1) \r\n",
        "                if(top1 == 100):\r\n",
        "                    print(\"𝓒𝓞𝓝𝓖𝓡𝓐𝓣𝓢 𝓟𝓛𝓐𝓨𝓔𝓡 1\")\r\n",
        "                    print(\"𝓨𝓸𝓾 𝓪𝓻𝓮 𝓽𝓱𝓮 𝔀𝓲𝓷𝓷𝓮𝓻\")\r\n",
        "                    print(\"Game🎲 successfully finished🏁\")\r\n",
        "                    break\r\n",
        "        \r\n",
        "                s1.push(top1)\r\n",
        "                c=1 \r\n",
        "            elif(inp.lower() == 'quit'):\r\n",
        "                print(\"𝓒𝓞𝓝𝓖𝓡𝓐𝓣𝓢 𝓟𝓛𝓐𝓨𝓔𝓡 2\")\r\n",
        "                print(\"𝓨𝓸𝓾 𝓪𝓻𝓮 𝓽𝓱𝓮 𝔀𝓲𝓷𝓷𝓮𝓻\")\r\n",
        "                print(\"Game🎲 successfully finished🏁\")\r\n",
        "                break\r\n",
        "            else:\r\n",
        "                print(\"Invalid input. Try again!!\")\r\n",
        "    \r\n",
        "        if c==1 :\r\n",
        "            inp=input(\"Player 2: \")\r\n",
        "            if(inp.lower() == 'roll'):\r\n",
        "                dice=np.random.choice([4,5,6,3,1,2])\r\n",
        "                top2=s2.top()\r\n",
        "                top2+=dice\r\n",
        "                flag,itr,str2=check(top2)\r\n",
        "                if flag == 1:\r\n",
        "                    top2=itr\r\n",
        "                    if (top2>100 ):\r\n",
        "                        top2=top2-dice\r\n",
        "\r\n",
        "                p2=auto_mode(\"player 2\", dice, top2)                    #passing values to class actual_mode\r\n",
        "                p2.display()\r\n",
        "                print(str2)\r\n",
        "\r\n",
        "                if(top2 == 100):\r\n",
        "                    print(\"𝓒𝓞𝓝𝓖𝓡𝓐𝓣𝓢 𝓟𝓛𝓐𝓨𝓔𝓡 2\")\r\n",
        "                    print(\"𝓨𝓸𝓾 𝓪𝓻𝓮 𝓽𝓱𝓮 𝔀𝓲𝓷𝓷𝓮𝓻\")\r\n",
        "                    print(\"Game🎲 successfully finished🏁\")\r\n",
        "                    break\r\n",
        "                elif(top2 >100):\r\n",
        "                    continue\r\n",
        "                s2.push(top2)\r\n",
        "                c=0 \r\n",
        "            elif(inp.lower() == 'quit'):\r\n",
        "                print(\"𝓒𝓞𝓝𝓖𝓡𝓐𝓣𝓢 𝓟𝓛𝓐𝓨𝓔𝓡 1\")\r\n",
        "                print(\"𝓨𝓸𝓾 𝓪𝓻𝓮 𝓽𝓱𝓮 𝔀𝓲𝓷𝓷𝓮𝓻\")\r\n",
        "                print(\"Game🎲 successfully finished🏁\")\r\n",
        "                break\r\n",
        "            else:\r\n",
        "                print(\"Invalid input. Try again!!\")\r\n",
        "if (mode1|mode2) == 1:                                    #if mode1|mode2 is 1 then both opted for Manual mode \r\n",
        "    while(s1.top() != 100 or s2.top()!=100) :\r\n",
        "        if c == 0:\r\n",
        "            inp=input(\"Player 1: \")\r\n",
        "            if(inp.isdigit() == True):\r\n",
        "                if (int(inp) >0 and int(inp)<20):\r\n",
        "                   dice=int(inp)\r\n",
        "                   top1=s1.top()\r\n",
        "                   top1+=dice\r\n",
        "                   flag,itr,str1=check(top1)                  # Tuple unpacking\r\n",
        "                   if flag == 1:\r\n",
        "                       top1=itr\r\n",
        "                   if(top1 >100):                              #roll over condition \r\n",
        "                       top1=top1-dice\r\n",
        "                   p1=manual_mode(\"player 1\", dice, top1)      #passing values to class manual_mode\r\n",
        "                   p1.display()\r\n",
        "                   print(str1)\r\n",
        "                   if(top1 == 100):\r\n",
        "                        print(\"𝓒𝓞𝓝𝓖𝓡𝓐𝓣𝓢 𝓟𝓛𝓐𝓨𝓔𝓡 1\")\r\n",
        "                        print(\"𝓨𝓸𝓾 𝓪𝓻𝓮 𝓽𝓱𝓮 𝔀𝓲𝓷𝓷𝓮𝓻\")\r\n",
        "                        print(\"Game🎲 successfully finished🏁\")\r\n",
        "                        break\r\n",
        "                   s1.push(top1)\r\n",
        "                   c=1\r\n",
        "                else:\r\n",
        "                  print(\"Invalid input.Try something in range 1 to 19\\n\")    \r\n",
        "            elif(inp.lower() == 'quit'):\r\n",
        "                print(\"𝓒𝓞𝓝𝓖𝓡𝓐𝓣𝓢 𝓟𝓛𝓐𝓨𝓔𝓡 2\")\r\n",
        "                print(\"𝓨𝓸𝓾 𝓪𝓻𝓮 𝓽𝓱𝓮 𝔀𝓲𝓷𝓷𝓮𝓻\")\r\n",
        "                print(\"Game🎲 successfully finished🏁\")\r\n",
        "                break\r\n",
        "            else:\r\n",
        "                print(\"Invalid input. Try again!!\")\r\n",
        "    \r\n",
        "        if c==1 :\r\n",
        "            inp=input(\"Player 2: \")\r\n",
        "            if( inp.isdigit() == True):\r\n",
        "                if(int(inp) >0 and int(inp)<20):\r\n",
        "                    dice=int(inp)\r\n",
        "                    top2=s2.top()\r\n",
        "                    top2+=dice\r\n",
        "                    flag,itr,str2=check(top2)\r\n",
        "                    if flag == 1:\r\n",
        "                      top2=itr \r\n",
        "                    if(top2 >100):\r\n",
        "                      top2=top2 -dice\r\n",
        "                    p2=manual_mode(\"player 2\", dice, top2)\r\n",
        "                \r\n",
        "                    p2.display()\r\n",
        "                    print(str2)\r\n",
        "                    if(top2 == 100):\r\n",
        "                        print(\"𝓒𝓞𝓝𝓖𝓡𝓐𝓣𝓢 𝓟𝓛𝓐𝓨𝓔𝓡 2\")\r\n",
        "                        print(\"𝓨𝓸𝓾 𝓪𝓻𝓮 𝓽𝓱𝓮 𝔀𝓲𝓷𝓷𝓮𝓻\")\r\n",
        "                        print(\"Game🎲 successfully finished🏁\")\r\n",
        "                        break\r\n",
        "                    \r\n",
        "                    s2.push(top2)\r\n",
        "                    c=0\r\n",
        "                else:\r\n",
        "                    print(\"Input value should be in between 1 to 20\")\r\n",
        "                 \r\n",
        "            elif(inp.lower() == 'quit'):\r\n",
        "                print(\"𝓒𝓞𝓝𝓖𝓡𝓐𝓣𝓢 𝓟𝓛𝓐𝓨𝓔𝓡 1\")\r\n",
        "                print(\"𝓨𝓸𝓾 𝓪𝓻𝓮 𝓽𝓱𝓮 𝔀𝓲𝓷𝓷𝓮𝓻\")\r\n",
        "                print(\"Game🎲 successfully finished🏁\")\r\n",
        "                break\r\n",
        "            else:\r\n",
        "                print(\"Invalid input. Try again!!\")\r\n",
        "        \r\n",
        "    \r\n"
      ],
      "execution_count": 12,
      "outputs": [
        {
          "output_type": "stream",
          "text": [
            "[1]\n",
            "#######WELCOME TO SNAKES AND LADDERS GAME#######\n",
            "Enter Player 1 name: Rahu;\n",
            "Enter Player 2 name: adsdsa\n",
            "^^^^^^^^^^LET'S START^^^^^^^^^^\n",
            "Rahu; enter 0 for automatic mode or 1 for manual mode 1\n",
            "adsdsa enter 0 for automatic mode or 1 for manual mode 1\n",
            "Player 1: 20\n",
            "Invalid input.Try something in range 1 to 19\n",
            "\n",
            "Player 1: 2\n",
            "Player 1 has got 2\n",
            "Player 1's final position: 38\n",
            "##################################################\n",
            "Climbed a ladder !!!\n",
            "\n",
            "Player 2: 4\n",
            "Player 2 has got 4\n",
            "Player 2's final position: 5\n",
            "##################################################\n",
            "\n",
            "Player 1: quit\n",
            "𝓒𝓞𝓝𝓖𝓡𝓐𝓣𝓢 𝓟𝓛𝓐𝓨𝓔𝓡 2\n",
            "𝓨𝓸𝓾 𝓪𝓻𝓮 𝓽𝓱𝓮 𝔀𝓲𝓷𝓷𝓮𝓻\n",
            "Game🎲 successfully finished🏁\n"
          ],
          "name": "stdout"
        }
      ]
    }
  ]
}
